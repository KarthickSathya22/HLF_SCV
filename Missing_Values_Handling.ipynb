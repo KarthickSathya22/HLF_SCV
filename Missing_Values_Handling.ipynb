{
 "cells": [
  {
   "cell_type": "code",
   "execution_count": 80,
   "metadata": {
    "colab": {},
    "colab_type": "code",
    "id": "mSYZ1Iv-DmkC"
   },
   "outputs": [],
   "source": [
    "import os\n",
    "import pickle\n",
    "import matplotlib.pyplot as plt\n",
    "import numpy as np\n",
    "import pandas as pd\n",
    "import seaborn as sns\n",
    "from imblearn.pipeline import make_pipeline as imb_make_pipeline\n",
    "from imblearn.over_sampling import RandomOverSampler, SMOTE\n",
    "from imblearn.under_sampling import RandomUnderSampler\n",
    "from imblearn.ensemble import BalancedBaggingClassifier, EasyEnsemble\n",
    "from mlens.visualization import corrmat\n",
    "from sklearn.model_selection import train_test_split, cross_val_score, cross_val_predict\n",
    "from sklearn.preprocessing import RobustScaler, FunctionTransformer\n",
    "from sklearn.ensemble import RandomForestClassifier, VotingClassifier, GradientBoostingClassifier\n",
    "from sklearn.ensemble.partial_dependence import plot_partial_dependence\n",
    "from sklearn.linear_model import LogisticRegression\n",
    "from sklearn.svm import SVC, LinearSVC\n",
    "from sklearn.neighbors import KNeighborsClassifier\n",
    "from sklearn.metrics import (roc_auc_score, confusion_matrix,\n",
    "                             accuracy_score, roc_curve,\n",
    "                             precision_recall_curve, f1_score)\n",
    "from sklearn.pipeline import make_pipeline\n",
    "import xgboost as xgb\n",
    "from keras import models, layers, optimizers\n",
    "from sklearn.impute import SimpleImputer as Imputer\n",
    "from sklearn.calibration import CalibratedClassifierCV\n",
    "\n",
    "%matplotlib inline\n",
    "plt.style.use(\"fivethirtyeight\")\n",
    "sns.set_context(\"notebook\")\n",
    "\n",
    "#Avoid future warnings: \n",
    "import warnings\n",
    "warnings.simplefilter(action='ignore', category=FutureWarning)"
   ]
  },
  {
   "cell_type": "code",
   "execution_count": 81,
   "metadata": {
    "colab": {},
    "colab_type": "code",
    "id": "Raq5slZWnLYK"
   },
   "outputs": [],
   "source": [
    "df = pd.read_csv('Train_data.csv')"
   ]
  },
  {
   "cell_type": "code",
   "execution_count": 82,
   "metadata": {
    "colab": {},
    "colab_type": "code",
    "id": "mUN8JuynLaNp"
   },
   "outputs": [],
   "source": [
    "df.drop('cus_CustomerType',axis=1,inplace=True)"
   ]
  },
  {
   "cell_type": "code",
   "execution_count": 83,
   "metadata": {
    "colab": {
     "base_uri": "https://localhost:8080/",
     "height": 1000
    },
    "colab_type": "code",
    "executionInfo": {
     "elapsed": 5918,
     "status": "ok",
     "timestamp": 1587134455463,
     "user": {
      "displayName": "Sathya Tech",
      "photoUrl": "",
      "userId": "09872077861490516655"
     },
     "user_tz": -330
    },
    "id": "bvCzBzZGECxd",
    "outputId": "c03a6a96-a2ee-4b25-b46a-ca86cea4420e"
   },
   "outputs": [
    {
     "name": "stdout",
     "output_type": "stream",
     "text": [
      "Data types:\n",
      "-----------\n",
      "cus_Gender                    object\n",
      "cus_MartialTypeId              int64\n",
      "cus_Dependants               float64\n",
      "cus_CurrenResTypeId            int64\n",
      "cus_CurrenStyYear            float64\n",
      "cus_Age                      float64\n",
      "IndustryType                   int64\n",
      "CustomerProfile                int64\n",
      "CustomerSegment                int64\n",
      "MarketType                     int64\n",
      "MarketNoofYearsinBusiness    float64\n",
      "app_CustProductCatTypeId       int64\n",
      "app_CustTenure               float64\n",
      "app_CustInstalCount          float64\n",
      "app_CustChasAsset            float64\n",
      "app_CustChasInitial          float64\n",
      "app_CustChasFinance          float64\n",
      "app_CustFinanInterest        float64\n",
      "app_CustEMI                  float64\n",
      "app_CustGrossLoan            float64\n",
      "app_CustViaIncomEstIncPm     float64\n",
      "app_CustViaExpTotExpense     float64\n",
      "app_CustViaGrossSurplus      float64\n",
      "app_CustUVAge                float64\n",
      "app_CustBrandTypeId            int64\n",
      "app_CustBankClosBal          float64\n",
      "Label                         object\n",
      "dtype: object\n",
      "\n",
      "Sum of null values in each feature:\n",
      "-----------------------------------\n",
      "cus_Gender                     0\n",
      "cus_MartialTypeId              0\n",
      "cus_Dependants                 3\n",
      "cus_CurrenResTypeId            0\n",
      "cus_CurrenStyYear              3\n",
      "cus_Age                      258\n",
      "IndustryType                   0\n",
      "CustomerProfile                0\n",
      "CustomerSegment                0\n",
      "MarketType                     0\n",
      "MarketNoofYearsinBusiness    405\n",
      "app_CustProductCatTypeId       0\n",
      "app_CustTenure                10\n",
      "app_CustInstalCount           10\n",
      "app_CustChasAsset             10\n",
      "app_CustChasInitial           10\n",
      "app_CustChasFinance           10\n",
      "app_CustFinanInterest         10\n",
      "app_CustEMI                   10\n",
      "app_CustGrossLoan             10\n",
      "app_CustViaIncomEstIncPm      10\n",
      "app_CustViaExpTotExpense      10\n",
      "app_CustViaGrossSurplus       10\n",
      "app_CustUVAge                 10\n",
      "app_CustBrandTypeId            0\n",
      "app_CustBankClosBal           10\n",
      "Label                          0\n",
      "dtype: int64\n"
     ]
    },
    {
     "data": {
      "text/html": [
       "<div>\n",
       "<style scoped>\n",
       "    .dataframe tbody tr th:only-of-type {\n",
       "        vertical-align: middle;\n",
       "    }\n",
       "\n",
       "    .dataframe tbody tr th {\n",
       "        vertical-align: top;\n",
       "    }\n",
       "\n",
       "    .dataframe thead th {\n",
       "        text-align: right;\n",
       "    }\n",
       "</style>\n",
       "<table border=\"1\" class=\"dataframe\">\n",
       "  <thead>\n",
       "    <tr style=\"text-align: right;\">\n",
       "      <th></th>\n",
       "      <th>cus_Gender</th>\n",
       "      <th>cus_MartialTypeId</th>\n",
       "      <th>cus_Dependants</th>\n",
       "      <th>cus_CurrenResTypeId</th>\n",
       "      <th>cus_CurrenStyYear</th>\n",
       "      <th>cus_Age</th>\n",
       "      <th>IndustryType</th>\n",
       "      <th>CustomerProfile</th>\n",
       "      <th>CustomerSegment</th>\n",
       "      <th>MarketType</th>\n",
       "      <th>...</th>\n",
       "      <th>app_CustFinanInterest</th>\n",
       "      <th>app_CustEMI</th>\n",
       "      <th>app_CustGrossLoan</th>\n",
       "      <th>app_CustViaIncomEstIncPm</th>\n",
       "      <th>app_CustViaExpTotExpense</th>\n",
       "      <th>app_CustViaGrossSurplus</th>\n",
       "      <th>app_CustUVAge</th>\n",
       "      <th>app_CustBrandTypeId</th>\n",
       "      <th>app_CustBankClosBal</th>\n",
       "      <th>Label</th>\n",
       "    </tr>\n",
       "  </thead>\n",
       "  <tbody>\n",
       "    <tr>\n",
       "      <th>0</th>\n",
       "      <td>M</td>\n",
       "      <td>2750</td>\n",
       "      <td>7.0</td>\n",
       "      <td>2755</td>\n",
       "      <td>22.0</td>\n",
       "      <td>46.0</td>\n",
       "      <td>1783</td>\n",
       "      <td>2693</td>\n",
       "      <td>2695</td>\n",
       "      <td>2729</td>\n",
       "      <td>...</td>\n",
       "      <td>7.0</td>\n",
       "      <td>16765.82</td>\n",
       "      <td>787993.60</td>\n",
       "      <td>59400.0</td>\n",
       "      <td>9505.0</td>\n",
       "      <td>49895.0</td>\n",
       "      <td>0.0</td>\n",
       "      <td>746</td>\n",
       "      <td>16765.82</td>\n",
       "      <td>Pay</td>\n",
       "    </tr>\n",
       "    <tr>\n",
       "      <th>1</th>\n",
       "      <td>M</td>\n",
       "      <td>2750</td>\n",
       "      <td>3.0</td>\n",
       "      <td>2755</td>\n",
       "      <td>50.0</td>\n",
       "      <td>29.0</td>\n",
       "      <td>604</td>\n",
       "      <td>2693</td>\n",
       "      <td>2695</td>\n",
       "      <td>2729</td>\n",
       "      <td>...</td>\n",
       "      <td>12.5</td>\n",
       "      <td>6305.85</td>\n",
       "      <td>214399.23</td>\n",
       "      <td>21000.0</td>\n",
       "      <td>3570.0</td>\n",
       "      <td>17430.0</td>\n",
       "      <td>0.0</td>\n",
       "      <td>746</td>\n",
       "      <td>6305.85</td>\n",
       "      <td>Pay</td>\n",
       "    </tr>\n",
       "    <tr>\n",
       "      <th>2</th>\n",
       "      <td>M</td>\n",
       "      <td>2750</td>\n",
       "      <td>4.0</td>\n",
       "      <td>2755</td>\n",
       "      <td>20.0</td>\n",
       "      <td>25.0</td>\n",
       "      <td>1783</td>\n",
       "      <td>2693</td>\n",
       "      <td>2695</td>\n",
       "      <td>2729</td>\n",
       "      <td>...</td>\n",
       "      <td>7.3</td>\n",
       "      <td>16180.84</td>\n",
       "      <td>760499.62</td>\n",
       "      <td>77000.0</td>\n",
       "      <td>26900.0</td>\n",
       "      <td>50100.0</td>\n",
       "      <td>0.0</td>\n",
       "      <td>564</td>\n",
       "      <td>16180.84</td>\n",
       "      <td>Pay</td>\n",
       "    </tr>\n",
       "    <tr>\n",
       "      <th>3</th>\n",
       "      <td>M</td>\n",
       "      <td>2750</td>\n",
       "      <td>4.0</td>\n",
       "      <td>2755</td>\n",
       "      <td>30.0</td>\n",
       "      <td>33.0</td>\n",
       "      <td>1783</td>\n",
       "      <td>2693</td>\n",
       "      <td>2695</td>\n",
       "      <td>2729</td>\n",
       "      <td>...</td>\n",
       "      <td>7.0</td>\n",
       "      <td>7610.29</td>\n",
       "      <td>312021.90</td>\n",
       "      <td>66000.0</td>\n",
       "      <td>27700.0</td>\n",
       "      <td>38300.0</td>\n",
       "      <td>0.0</td>\n",
       "      <td>564</td>\n",
       "      <td>7610.29</td>\n",
       "      <td>Pay</td>\n",
       "    </tr>\n",
       "    <tr>\n",
       "      <th>4</th>\n",
       "      <td>M</td>\n",
       "      <td>2750</td>\n",
       "      <td>4.0</td>\n",
       "      <td>2755</td>\n",
       "      <td>15.0</td>\n",
       "      <td>25.0</td>\n",
       "      <td>1783</td>\n",
       "      <td>2693</td>\n",
       "      <td>2695</td>\n",
       "      <td>2729</td>\n",
       "      <td>...</td>\n",
       "      <td>7.2</td>\n",
       "      <td>15281.16</td>\n",
       "      <td>718214.56</td>\n",
       "      <td>66000.0</td>\n",
       "      <td>24100.0</td>\n",
       "      <td>41900.0</td>\n",
       "      <td>0.0</td>\n",
       "      <td>564</td>\n",
       "      <td>15281.16</td>\n",
       "      <td>Pay</td>\n",
       "    </tr>\n",
       "  </tbody>\n",
       "</table>\n",
       "<p>5 rows × 27 columns</p>\n",
       "</div>"
      ],
      "text/plain": [
       "  cus_Gender  cus_MartialTypeId  cus_Dependants  cus_CurrenResTypeId  \\\n",
       "0          M               2750             7.0                 2755   \n",
       "1          M               2750             3.0                 2755   \n",
       "2          M               2750             4.0                 2755   \n",
       "3          M               2750             4.0                 2755   \n",
       "4          M               2750             4.0                 2755   \n",
       "\n",
       "   cus_CurrenStyYear  cus_Age  IndustryType  CustomerProfile  CustomerSegment  \\\n",
       "0               22.0     46.0          1783             2693             2695   \n",
       "1               50.0     29.0           604             2693             2695   \n",
       "2               20.0     25.0          1783             2693             2695   \n",
       "3               30.0     33.0          1783             2693             2695   \n",
       "4               15.0     25.0          1783             2693             2695   \n",
       "\n",
       "   MarketType  ...  app_CustFinanInterest  app_CustEMI  app_CustGrossLoan  \\\n",
       "0        2729  ...                    7.0     16765.82          787993.60   \n",
       "1        2729  ...                   12.5      6305.85          214399.23   \n",
       "2        2729  ...                    7.3     16180.84          760499.62   \n",
       "3        2729  ...                    7.0      7610.29          312021.90   \n",
       "4        2729  ...                    7.2     15281.16          718214.56   \n",
       "\n",
       "   app_CustViaIncomEstIncPm  app_CustViaExpTotExpense  \\\n",
       "0                   59400.0                    9505.0   \n",
       "1                   21000.0                    3570.0   \n",
       "2                   77000.0                   26900.0   \n",
       "3                   66000.0                   27700.0   \n",
       "4                   66000.0                   24100.0   \n",
       "\n",
       "   app_CustViaGrossSurplus  app_CustUVAge  app_CustBrandTypeId  \\\n",
       "0                  49895.0            0.0                  746   \n",
       "1                  17430.0            0.0                  746   \n",
       "2                  50100.0            0.0                  564   \n",
       "3                  38300.0            0.0                  564   \n",
       "4                  41900.0            0.0                  564   \n",
       "\n",
       "   app_CustBankClosBal  Label  \n",
       "0             16765.82    Pay  \n",
       "1              6305.85    Pay  \n",
       "2             16180.84    Pay  \n",
       "3              7610.29    Pay  \n",
       "4             15281.16    Pay  \n",
       "\n",
       "[5 rows x 27 columns]"
      ]
     },
     "execution_count": 83,
     "metadata": {},
     "output_type": "execute_result"
    }
   ],
   "source": [
    "# Check both the datatypes and if there is missing values\n",
    "print(f\"Data types:\\n{11 * '-'}\")\n",
    "print(f\"{df.dtypes}\\n\")\n",
    "print(f\"Sum of null values in each feature:\\n{35 * '-'}\")\n",
    "print(f\"{df.isnull().sum()}\")\n",
    "df.head()"
   ]
  },
  {
   "cell_type": "code",
   "execution_count": 84,
   "metadata": {
    "colab": {},
    "colab_type": "code",
    "id": "n7STZGvNFalb"
   },
   "outputs": [],
   "source": [
    "#Converting the text label into integers:\n",
    "def cate(val):\n",
    "    \"\"\"\n",
    "    This function is used to converting string classes into integer values.\n",
    "    \"\"\"\n",
    "    if val == 'Pay':\n",
    "        return 0\n",
    "    else:\n",
    "        return 1\n",
    "\n",
    "#Applying a function cate:\n",
    "df['Label'] = df['Label'].apply(cate)"
   ]
  },
  {
   "cell_type": "code",
   "execution_count": 85,
   "metadata": {
    "colab": {
     "base_uri": "https://localhost:8080/",
     "height": 472
    },
    "colab_type": "code",
    "executionInfo": {
     "elapsed": 6232,
     "status": "ok",
     "timestamp": 1587134455870,
     "user": {
      "displayName": "Sathya Tech",
      "photoUrl": "",
      "userId": "09872077861490516655"
     },
     "user_tz": -330
    },
    "id": "aRfDDireFovw",
    "outputId": "7abbdbdc-0e39-4765-bdbe-63f30acaacd5"
   },
   "outputs": [
    {
     "name": "stdout",
     "output_type": "stream",
     "text": [
      "Positive examples = 389\n",
      "Negative examples = 453\n",
      "Proportion of positive to negative examples = 85.87%\n"
     ]
    },
    {
     "data": {
      "image/png": "[encoded data removed]",
      "text/plain": [
       "<Figure size 576x432 with 1 Axes>"
      ]
     },
     "metadata": {},
     "output_type": "display_data"
    }
   ],
   "source": [
    "# Get number of positve and negative examples\n",
    "neg = df[df[\"Label\"] == 1].shape[0]\n",
    "pos = df[df[\"Label\"] == 0].shape[0]\n",
    "print(f\"Positive examples = {pos}\")\n",
    "print(f\"Negative examples = {neg}\")\n",
    "print(f\"Proportion of positive to negative examples = {(pos / neg) * 100:.2f}%\")\n",
    "plt.figure(figsize=(8, 6))\n",
    "sns.countplot(df.Label)\n",
    "plt.xticks((0, 1), [\"Paid fully\", \"Not paid fully\"])\n",
    "plt.xlabel(\"\")\n",
    "plt.ylabel(\"Count\")\n",
    "plt.title(\"Class counts\", y=1, fontdict={\"fontsize\": 20});\n",
    "plt.savefig('data_scv.jpg', bbox_inches='tight')"
   ]
  },
  {
   "cell_type": "code",
   "execution_count": 86,
   "metadata": {
    "colab": {
     "base_uri": "https://localhost:8080/",
     "height": 224
    },
    "colab_type": "code",
    "executionInfo": {
     "elapsed": 6194,
     "status": "ok",
     "timestamp": 1587134455872,
     "user": {
      "displayName": "Sathya Tech",
      "photoUrl": "",
      "userId": "09872077861490516655"
     },
     "user_tz": -330
    },
    "id": "TKTJ-Fk_Hg7E",
    "outputId": "b93da694-bef4-497b-bd35-e411d8962635"
   },
   "outputs": [
    {
     "data": {
      "text/html": [
       "<div>\n",
       "<style scoped>\n",
       "    .dataframe tbody tr th:only-of-type {\n",
       "        vertical-align: middle;\n",
       "    }\n",
       "\n",
       "    .dataframe tbody tr th {\n",
       "        vertical-align: top;\n",
       "    }\n",
       "\n",
       "    .dataframe thead th {\n",
       "        text-align: right;\n",
       "    }\n",
       "</style>\n",
       "<table border=\"1\" class=\"dataframe\">\n",
       "  <thead>\n",
       "    <tr style=\"text-align: right;\">\n",
       "      <th></th>\n",
       "      <th>cus_MartialTypeId</th>\n",
       "      <th>cus_Dependants</th>\n",
       "      <th>cus_CurrenResTypeId</th>\n",
       "      <th>cus_CurrenStyYear</th>\n",
       "      <th>cus_Age</th>\n",
       "      <th>IndustryType</th>\n",
       "      <th>CustomerProfile</th>\n",
       "      <th>CustomerSegment</th>\n",
       "      <th>MarketType</th>\n",
       "      <th>MarketNoofYearsinBusiness</th>\n",
       "      <th>...</th>\n",
       "      <th>app_CustGrossLoan</th>\n",
       "      <th>app_CustViaIncomEstIncPm</th>\n",
       "      <th>app_CustViaExpTotExpense</th>\n",
       "      <th>app_CustViaGrossSurplus</th>\n",
       "      <th>app_CustUVAge</th>\n",
       "      <th>app_CustBrandTypeId</th>\n",
       "      <th>app_CustBankClosBal</th>\n",
       "      <th>Label</th>\n",
       "      <th>cus_Gender_F</th>\n",
       "      <th>cus_Gender_M</th>\n",
       "    </tr>\n",
       "  </thead>\n",
       "  <tbody>\n",
       "    <tr>\n",
       "      <th>0</th>\n",
       "      <td>2750</td>\n",
       "      <td>7.0</td>\n",
       "      <td>2755</td>\n",
       "      <td>22.0</td>\n",
       "      <td>46.0</td>\n",
       "      <td>1783</td>\n",
       "      <td>2693</td>\n",
       "      <td>2695</td>\n",
       "      <td>2729</td>\n",
       "      <td>6.0</td>\n",
       "      <td>...</td>\n",
       "      <td>787993.60</td>\n",
       "      <td>59400.0</td>\n",
       "      <td>9505.0</td>\n",
       "      <td>49895.0</td>\n",
       "      <td>0.0</td>\n",
       "      <td>746</td>\n",
       "      <td>16765.82</td>\n",
       "      <td>0</td>\n",
       "      <td>0</td>\n",
       "      <td>1</td>\n",
       "    </tr>\n",
       "    <tr>\n",
       "      <th>1</th>\n",
       "      <td>2750</td>\n",
       "      <td>3.0</td>\n",
       "      <td>2755</td>\n",
       "      <td>50.0</td>\n",
       "      <td>29.0</td>\n",
       "      <td>604</td>\n",
       "      <td>2693</td>\n",
       "      <td>2695</td>\n",
       "      <td>2729</td>\n",
       "      <td>5.0</td>\n",
       "      <td>...</td>\n",
       "      <td>214399.23</td>\n",
       "      <td>21000.0</td>\n",
       "      <td>3570.0</td>\n",
       "      <td>17430.0</td>\n",
       "      <td>0.0</td>\n",
       "      <td>746</td>\n",
       "      <td>6305.85</td>\n",
       "      <td>0</td>\n",
       "      <td>0</td>\n",
       "      <td>1</td>\n",
       "    </tr>\n",
       "    <tr>\n",
       "      <th>2</th>\n",
       "      <td>2750</td>\n",
       "      <td>4.0</td>\n",
       "      <td>2755</td>\n",
       "      <td>20.0</td>\n",
       "      <td>25.0</td>\n",
       "      <td>1783</td>\n",
       "      <td>2693</td>\n",
       "      <td>2695</td>\n",
       "      <td>2729</td>\n",
       "      <td>10.0</td>\n",
       "      <td>...</td>\n",
       "      <td>760499.62</td>\n",
       "      <td>77000.0</td>\n",
       "      <td>26900.0</td>\n",
       "      <td>50100.0</td>\n",
       "      <td>0.0</td>\n",
       "      <td>564</td>\n",
       "      <td>16180.84</td>\n",
       "      <td>0</td>\n",
       "      <td>0</td>\n",
       "      <td>1</td>\n",
       "    </tr>\n",
       "    <tr>\n",
       "      <th>3</th>\n",
       "      <td>2750</td>\n",
       "      <td>4.0</td>\n",
       "      <td>2755</td>\n",
       "      <td>30.0</td>\n",
       "      <td>33.0</td>\n",
       "      <td>1783</td>\n",
       "      <td>2693</td>\n",
       "      <td>2695</td>\n",
       "      <td>2729</td>\n",
       "      <td>NaN</td>\n",
       "      <td>...</td>\n",
       "      <td>312021.90</td>\n",
       "      <td>66000.0</td>\n",
       "      <td>27700.0</td>\n",
       "      <td>38300.0</td>\n",
       "      <td>0.0</td>\n",
       "      <td>564</td>\n",
       "      <td>7610.29</td>\n",
       "      <td>0</td>\n",
       "      <td>0</td>\n",
       "      <td>1</td>\n",
       "    </tr>\n",
       "    <tr>\n",
       "      <th>4</th>\n",
       "      <td>2750</td>\n",
       "      <td>4.0</td>\n",
       "      <td>2755</td>\n",
       "      <td>15.0</td>\n",
       "      <td>25.0</td>\n",
       "      <td>1783</td>\n",
       "      <td>2693</td>\n",
       "      <td>2695</td>\n",
       "      <td>2729</td>\n",
       "      <td>6.0</td>\n",
       "      <td>...</td>\n",
       "      <td>718214.56</td>\n",
       "      <td>66000.0</td>\n",
       "      <td>24100.0</td>\n",
       "      <td>41900.0</td>\n",
       "      <td>0.0</td>\n",
       "      <td>564</td>\n",
       "      <td>15281.16</td>\n",
       "      <td>0</td>\n",
       "      <td>0</td>\n",
       "      <td>1</td>\n",
       "    </tr>\n",
       "  </tbody>\n",
       "</table>\n",
       "<p>5 rows × 28 columns</p>\n",
       "</div>"
      ],
      "text/plain": [
       "   cus_MartialTypeId  cus_Dependants  cus_CurrenResTypeId  cus_CurrenStyYear  \\\n",
       "0               2750             7.0                 2755               22.0   \n",
       "1               2750             3.0                 2755               50.0   \n",
       "2               2750             4.0                 2755               20.0   \n",
       "3               2750             4.0                 2755               30.0   \n",
       "4               2750             4.0                 2755               15.0   \n",
       "\n",
       "   cus_Age  IndustryType  CustomerProfile  CustomerSegment  MarketType  \\\n",
       "0     46.0          1783             2693             2695        2729   \n",
       "1     29.0           604             2693             2695        2729   \n",
       "2     25.0          1783             2693             2695        2729   \n",
       "3     33.0          1783             2693             2695        2729   \n",
       "4     25.0          1783             2693             2695        2729   \n",
       "\n",
       "   MarketNoofYearsinBusiness  ...  app_CustGrossLoan  \\\n",
       "0                        6.0  ...          787993.60   \n",
       "1                        5.0  ...          214399.23   \n",
       "2                       10.0  ...          760499.62   \n",
       "3                        NaN  ...          312021.90   \n",
       "4                        6.0  ...          718214.56   \n",
       "\n",
       "   app_CustViaIncomEstIncPm  app_CustViaExpTotExpense  \\\n",
       "0                   59400.0                    9505.0   \n",
       "1                   21000.0                    3570.0   \n",
       "2                   77000.0                   26900.0   \n",
       "3                   66000.0                   27700.0   \n",
       "4                   66000.0                   24100.0   \n",
       "\n",
       "   app_CustViaGrossSurplus  app_CustUVAge  app_CustBrandTypeId  \\\n",
       "0                  49895.0            0.0                  746   \n",
       "1                  17430.0            0.0                  746   \n",
       "2                  50100.0            0.0                  564   \n",
       "3                  38300.0            0.0                  564   \n",
       "4                  41900.0            0.0                  564   \n",
       "\n",
       "   app_CustBankClosBal  Label  cus_Gender_F  cus_Gender_M  \n",
       "0             16765.82      0             0             1  \n",
       "1              6305.85      0             0             1  \n",
       "2             16180.84      0             0             1  \n",
       "3              7610.29      0             0             1  \n",
       "4             15281.16      0             0             1  \n",
       "\n",
       "[5 rows x 28 columns]"
      ]
     },
     "execution_count": 86,
     "metadata": {},
     "output_type": "execute_result"
    }
   ],
   "source": [
    "# Create dummy variables from the feature purpose\n",
    "df = pd.get_dummies(df, columns=[\"cus_Gender\"])\n",
    "df.head()"
   ]
  },
  {
   "cell_type": "code",
   "execution_count": 87,
   "metadata": {
    "colab": {
     "base_uri": "https://localhost:8080/",
     "height": 34
    },
    "colab_type": "code",
    "executionInfo": {
     "elapsed": 6162,
     "status": "ok",
     "timestamp": 1587134455874,
     "user": {
      "displayName": "Sathya Tech",
      "photoUrl": "",
      "userId": "09872077861490516655"
     },
     "user_tz": -330
    },
    "id": "TUWD3HcDMTRJ",
    "outputId": "6b41b438-8171-408d-ad7f-048ed46df07f"
   },
   "outputs": [
    {
     "name": "stdout",
     "output_type": "stream",
     "text": [
      "Original data shapes: ((673, 27), (169, 27))\n"
     ]
    }
   ],
   "source": [
    "# Original Data\n",
    "X = df.loc[:, df.columns != \"Label\"].values\n",
    "y = df.loc[:, df.columns == \"Label\"].values.flatten()\n",
    "X_train, X_test, y_train, y_test = train_test_split(\n",
    "    X, y, test_size=0.2, shuffle=True, random_state=123, stratify=y)\n",
    "print(f\"Original data shapes: {X_train.shape, X_test.shape}\")"
   ]
  },
  {
   "cell_type": "code",
   "execution_count": 88,
   "metadata": {
    "colab": {
     "base_uri": "https://localhost:8080/",
     "height": 102
    },
    "colab_type": "code",
    "executionInfo": {
     "elapsed": 191795,
     "status": "ok",
     "timestamp": 1587134641544,
     "user": {
      "displayName": "Sathya Tech",
      "photoUrl": "",
      "userId": "09872077861490516655"
     },
     "user_tz": -330
    },
    "id": "HtitsxLxQ0dx",
    "outputId": "0d0d3d79-913c-426b-fba0-ec20a9e4dd3a"
   },
   "outputs": [
    {
     "name": "stdout",
     "output_type": "stream",
     "text": [
      "Original model's average AUC: 0.906\n",
      "Under-sampled model's average AUC: 0.905\n",
      "Over-sampled model's average AUC: 0.905\n",
      "EasyEnsemble model's average AUC: 0.902\n",
      "SMOTE model's average AUC: 0.904\n"
     ]
    }
   ],
   "source": [
    "# Build random forest classifier (same config)\n",
    "rf_clf = RandomForestClassifier(n_estimators=500,\n",
    "                                max_features=0.25,\n",
    "                                criterion=\"entropy\",\n",
    "                                class_weight=\"balanced\")\n",
    "\n",
    "# Build model with no sampling\n",
    "pip_orig = make_pipeline(Imputer(strategy=\"median\"),rf_clf)\n",
    "scores = cross_val_score(pip_orig,\n",
    "                         X_train, y_train,\n",
    "                         scoring=\"roc_auc\", cv=10)\n",
    "print(f\"Original model's average AUC: {scores.mean():.3f}\")\n",
    "\n",
    "# Build model with undersampling\n",
    "pip_undersample = imb_make_pipeline(Imputer(strategy=\"median\"),RandomUnderSampler(), rf_clf)\n",
    "scores = cross_val_score(pip_undersample,\n",
    "                         X_train, y_train,\n",
    "                         scoring=\"roc_auc\", cv=10)\n",
    "print(f\"Under-sampled model's average AUC: {scores.mean():.3f}\")\n",
    "\n",
    "# Build model with oversampling\n",
    "pip_oversample = imb_make_pipeline(Imputer(strategy=\"median\"),RandomOverSampler(), rf_clf)\n",
    "scores = cross_val_score(pip_oversample,\n",
    "                         X_train, y_train,\n",
    "                         scoring=\"roc_auc\", cv=10)\n",
    "print(f\"Over-sampled model's average AUC: {scores.mean():.3f}\")\n",
    "\n",
    "# Build model with EasyEnsemble\n",
    "resampled_rf = BalancedBaggingClassifier(base_estimator=rf_clf,\n",
    "                                         n_estimators=10, random_state=123)\n",
    "pip_resampled = make_pipeline(Imputer(strategy=\"median\"),resampled_rf)\n",
    "                             \n",
    "scores = cross_val_score(pip_resampled,\n",
    "                         X_train, y_train,\n",
    "                         scoring=\"roc_auc\", cv=10)\n",
    "print(f\"EasyEnsemble model's average AUC: {scores.mean():.3f}\")\n",
    "\n",
    "# Build model with SMOTE\n",
    "pip_smote = imb_make_pipeline(Imputer(strategy=\"median\"),SMOTE(), rf_clf)\n",
    "scores = cross_val_score(pip_smote,\n",
    "                         X_train, y_train,\n",
    "                         scoring=\"roc_auc\", cv=10)\n",
    "print(f\"SMOTE model's average AUC: {scores.mean():.3f}\")"
   ]
  },
  {
   "cell_type": "code",
   "execution_count": 89,
   "metadata": {
    "colab": {
     "base_uri": "https://localhost:8080/",
     "height": 34
    },
    "colab_type": "code",
    "executionInfo": {
     "elapsed": 191785,
     "status": "ok",
     "timestamp": 1587134641562,
     "user": {
      "displayName": "Sathya Tech",
      "photoUrl": "",
      "userId": "09872077861490516655"
     },
     "user_tz": -330
    },
    "id": "o_MbzYGShTTt",
    "outputId": "19cbade9-f90e-4a75-806f-7cceff0d17ef"
   },
   "outputs": [
    {
     "data": {
      "text/plain": [
       "((724, 27), (724,))"
      ]
     },
     "execution_count": 89,
     "metadata": {},
     "output_type": "execute_result"
    }
   ],
   "source": [
    "# Impute the missing data using features means\n",
    "imp = Imputer(strategy=\"median\")\n",
    "imp.fit(X_train)\n",
    "X_train = imp.transform(X_train)\n",
    "X_test = imp.transform(X_test)\n",
    "\n",
    "\n",
    "# Implement RandomOverSampler\n",
    "sampler = RandomOverSampler()\n",
    "X_res, y_res = sampler.fit_sample(X_train, y_train)\n",
    "# Shuffle the data\n",
    "perms = np.random.permutation(X_res.shape[0])\n",
    "X_res = X_res[perms]\n",
    "y_res = y_res[perms]\n",
    "X_res.shape, y_res.shape"
   ]
  },
  {
   "cell_type": "code",
   "execution_count": 90,
   "metadata": {
    "colab": {},
    "colab_type": "code",
    "id": "N4k0sD7snxft"
   },
   "outputs": [],
   "source": [
    "# Number of trees in random forest\n",
    "n_estimators = [int(x) for x in np.linspace(start = 200, stop = 2000, num = 10)]\n",
    "# Number of features to consider at every split\n",
    "max_features = ['auto', 'sqrt']\n",
    "# Maximum number of levels in tree\n",
    "max_depth = [int(x) for x in np.linspace(10, 110, num = 11)]\n",
    "max_depth.append(None)\n",
    "# Minimum number of samples required to split a node\n",
    "min_samples_split = [2, 5, 10]\n",
    "# Minimum number of samples required at each leaf node\n",
    "min_samples_leaf = [1, 2, 4]\n",
    "# Method of selecting samples for training each tree\n",
    "bootstrap = [True, False]\n",
    "# Create the random grid\n",
    "param_grid = {'n_estimators': n_estimators,\n",
    "               'max_features': max_features,\n",
    "               'max_depth': max_depth,\n",
    "               'min_samples_split': min_samples_split,\n",
    "               'min_samples_leaf': min_samples_leaf,\n",
    "               'bootstrap': bootstrap}"
   ]
  },
  {
   "cell_type": "code",
   "execution_count": 91,
   "metadata": {
    "colab": {
     "base_uri": "https://localhost:8080/",
     "height": 612
    },
    "colab_type": "code",
    "executionInfo": {
     "elapsed": 1570,
     "status": "ok",
     "timestamp": 1587137121053,
     "user": {
      "displayName": "Sathya Tech",
      "photoUrl": "",
      "userId": "09872077861490516655"
     },
     "user_tz": -330
    },
    "id": "l2vNN6SeuNca",
    "outputId": "f9b197ed-bb82-460b-ebe0-a0dc2160a00f"
   },
   "outputs": [
    {
     "name": "stdout",
     "output_type": "stream",
     "text": [
      "Fitting 10 folds for each of 100 candidates, totalling 1000 fits\n"
     ]
    },
    {
     "name": "stderr",
     "output_type": "stream",
     "text": [
      "[Parallel(n_jobs=-1)]: Using backend LokyBackend with 4 concurrent workers.\n",
      "[Parallel(n_jobs=-1)]: Done  33 tasks      | elapsed:  1.2min\n",
      "[Parallel(n_jobs=-1)]: Done 154 tasks      | elapsed:  4.9min\n",
      "[Parallel(n_jobs=-1)]: Done 357 tasks      | elapsed: 11.6min\n",
      "[Parallel(n_jobs=-1)]: Done 640 tasks      | elapsed: 19.1min\n",
      "[Parallel(n_jobs=-1)]: Done 1000 out of 1000 | elapsed: 29.6min finished\n"
     ]
    },
    {
     "data": {
      "text/plain": [
       "RandomizedSearchCV(cv=10, error_score=nan,\n",
       "                   estimator=RandomForestClassifier(bootstrap=True,\n",
       "                                                    ccp_alpha=0.0,\n",
       "                                                    class_weight=None,\n",
       "                                                    criterion='gini',\n",
       "                                                    max_depth=None,\n",
       "                                                    max_features='auto',\n",
       "                                                    max_leaf_nodes=None,\n",
       "                                                    max_samples=None,\n",
       "                                                    min_impurity_decrease=0.0,\n",
       "                                                    min_impurity_split=None,\n",
       "                                                    min_samples_leaf=1,\n",
       "                                                    min_samples_split=2,\n",
       "                                                    min_weight_fraction_leaf=0.0,\n",
       "                                                    n_estimators=100,\n",
       "                                                    n_job...\n",
       "                   param_distributions={'bootstrap': [True, False],\n",
       "                                        'max_depth': [10, 20, 30, 40, 50, 60,\n",
       "                                                      70, 80, 90, 100, 110,\n",
       "                                                      None],\n",
       "                                        'max_features': ['auto', 'sqrt'],\n",
       "                                        'min_samples_leaf': [1, 2, 4],\n",
       "                                        'min_samples_split': [2, 5, 10],\n",
       "                                        'n_estimators': [200, 400, 600, 800,\n",
       "                                                         1000, 1200, 1400, 1600,\n",
       "                                                         1800, 2000]},\n",
       "                   pre_dispatch='2*n_jobs', random_state=42, refit=True,\n",
       "                   return_train_score=False, scoring='roc_auc', verbose=2)"
      ]
     },
     "execution_count": 91,
     "metadata": {},
     "output_type": "execute_result"
    }
   ],
   "source": [
    "from sklearn.model_selection import RandomizedSearchCV\n",
    "# Use the random grid to search for best hyperparameters\n",
    "# First create the base model to tune\n",
    "rf = RandomForestClassifier(random_state=42)\n",
    "# Random search of parameters, using 3 fold cross validation, \n",
    "# search across 100 different combinations, and use all available cores\n",
    "grid = RandomizedSearchCV(estimator = rf, param_distributions = param_grid, n_iter = 100,scoring='roc_auc' ,cv = 10, verbose=2, random_state=42, n_jobs = -1)\n",
    "# Fit the random search model\n",
    "grid.fit(X_res, y_res)"
   ]
  },
  {
   "cell_type": "code",
   "execution_count": 92,
   "metadata": {
    "colab": {
     "base_uri": "https://localhost:8080/",
     "height": 51
    },
    "colab_type": "code",
    "executionInfo": {
     "elapsed": 318,
     "status": "ok",
     "timestamp": 1587137121055,
     "user": {
      "displayName": "Sathya Tech",
      "photoUrl": "",
      "userId": "09872077861490516655"
     },
     "user_tz": -330
    },
    "id": "7G3nVjKhuTqk",
    "outputId": "28dfe683-5b99-4902-cf51-63929e5973f0"
   },
   "outputs": [
    {
     "name": "stdout",
     "output_type": "stream",
     "text": [
      "Area Under Curve on Cross Validation Data:92.78\n",
      "{'n_estimators': 400, 'min_samples_split': 2, 'min_samples_leaf': 1, 'max_features': 'sqrt', 'max_depth': None, 'bootstrap': False}\n"
     ]
    }
   ],
   "source": [
    "print(\"Area Under Curve on Cross Validation Data:%.2f\" % (grid.best_score_*100))\n",
    "p = grid.best_params_\n",
    "print(p)"
   ]
  },
  {
   "cell_type": "code",
   "execution_count": 93,
   "metadata": {
    "colab": {
     "base_uri": "https://localhost:8080/",
     "height": 153
    },
    "colab_type": "code",
    "executionInfo": {
     "elapsed": 292,
     "status": "ok",
     "timestamp": 1587137121057,
     "user": {
      "displayName": "Sathya Tech",
      "photoUrl": "",
      "userId": "09872077861490516655"
     },
     "user_tz": -330
    },
    "id": "gXSnVUequlYa",
    "outputId": "e772f5c1-d461-4a1f-e68d-76bcf6362b47"
   },
   "outputs": [
    {
     "data": {
      "text/plain": [
       "RandomForestClassifier(bootstrap=False, ccp_alpha=0.0, class_weight=None,\n",
       "                       criterion='gini', max_depth=None, max_features='sqrt',\n",
       "                       max_leaf_nodes=None, max_samples=None,\n",
       "                       min_impurity_decrease=0.0, min_impurity_split=None,\n",
       "                       min_samples_leaf=1, min_samples_split=2,\n",
       "                       min_weight_fraction_leaf=0.0, n_estimators=400,\n",
       "                       n_jobs=None, oob_score=False, random_state=42, verbose=0,\n",
       "                       warm_start=False)"
      ]
     },
     "execution_count": 93,
     "metadata": {},
     "output_type": "execute_result"
    }
   ],
   "source": [
    "# Evaluate a model with optimized parameters:\n",
    "rf = RandomForestClassifier(random_state = 42)\n",
    "best_rf = grid.best_estimator_\n",
    "best_rf.fit(X_res,y_res)"
   ]
  },
  {
   "cell_type": "code",
   "execution_count": 94,
   "metadata": {
    "colab": {
     "base_uri": "https://localhost:8080/",
     "height": 437
    },
    "colab_type": "code",
    "executionInfo": {
     "elapsed": 274,
     "status": "ok",
     "timestamp": 1587137121060,
     "user": {
      "displayName": "Sathya Tech",
      "photoUrl": "",
      "userId": "09872077861490516655"
     },
     "user_tz": -330
    },
    "id": "MY1fwhTFuppr",
    "outputId": "9105fb9a-08a3-4e96-b20a-d1f596f1982c"
   },
   "outputs": [
    {
     "data": {
      "image/png": "[encoded data removed]",
      "text/plain": [
       "<Figure size 864x432 with 1 Axes>"
      ]
     },
     "metadata": {},
     "output_type": "display_data"
    }
   ],
   "source": [
    "probs = best_rf.predict_proba(X_test)[:, 1:]\n",
    "auc_score = roc_auc_score(y_test, probs)\n",
    "fpr, tpr, _ = roc_curve(y_test, probs)\n",
    "plt.figure(figsize=(12, 6))\n",
    "plt.plot(fpr, tpr, label=f\"auc = {auc_score:.3f}\")\n",
    "plt.plot([0,1],[0,1],'--')\n",
    "plt.legend(loc=\"lower right\")\n",
    "plt.xlabel(\"FPR\")\n",
    "plt.ylabel(\"TPR\")\n",
    "plt.title(\"ROC curve\")\n",
    "plt.tight_layout()\n",
    "plt.savefig('auc_scv.jpg', bbox_inches='tight')"
   ]
  },
  {
   "cell_type": "code",
   "execution_count": 95,
   "metadata": {
    "colab": {
     "base_uri": "https://localhost:8080/",
     "height": 34
    },
    "colab_type": "code",
    "executionInfo": {
     "elapsed": 259,
     "status": "ok",
     "timestamp": 1587137121064,
     "user": {
      "displayName": "Sathya Tech",
      "photoUrl": "",
      "userId": "09872077861490516655"
     },
     "user_tz": -330
    },
    "id": "sEtvJJo12D_e",
    "outputId": "eb4e8ed4-5fb5-4819-b817-8a7b7a4127d5"
   },
   "outputs": [
    {
     "data": {
      "text/plain": [
       "Counter({1: 91, 0: 78})"
      ]
     },
     "execution_count": 95,
     "metadata": {},
     "output_type": "execute_result"
    }
   ],
   "source": [
    "from collections import Counter \n",
    "Counter(y_test)"
   ]
  },
  {
   "cell_type": "code",
   "execution_count": 96,
   "metadata": {
    "colab": {
     "base_uri": "https://localhost:8080/",
     "height": 332
    },
    "colab_type": "code",
    "executionInfo": {
     "elapsed": 243,
     "status": "ok",
     "timestamp": 1587137121067,
     "user": {
      "displayName": "Sathya Tech",
      "photoUrl": "",
      "userId": "09872077861490516655"
     },
     "user_tz": -330
    },
    "id": "Ojeo4tHYuyw_",
    "outputId": "8dc3387b-620a-4f93-e33c-1cac1af62765"
   },
   "outputs": [
    {
     "data": {
      "text/plain": [
       "<Figure size 1152x576 with 0 Axes>"
      ]
     },
     "metadata": {},
     "output_type": "display_data"
    },
    {
     "data": {
      "image/png": "[encoded data removed]",
      "text/plain": [
       "<Figure size 288x288 with 1 Axes>"
      ]
     },
     "metadata": {},
     "output_type": "display_data"
    }
   ],
   "source": [
    "probs = best_rf.predict_proba(X_test)\n",
    "preds = best_rf.predict(X_test)\n",
    "conf_mat = confusion_matrix(y_test, preds)\n",
    "# Define figure size and figure ratios\n",
    "plt.figure(figsize=(16, 8))\n",
    "plt.matshow(conf_mat, cmap=plt.cm.Reds, alpha=0.2)\n",
    "for i in range(2):\n",
    "    for j in range(2):\n",
    "        plt.text(x=j, y=i, s=conf_mat[i, j], ha=\"center\", va=\"center\")\n",
    "plt.title(\"Confusion matrix\", y=1.1, fontdict={\"fontsize\": 20})\n",
    "plt.xlabel(\"Predicted\", fontdict={\"fontsize\": 14})\n",
    "plt.ylabel(\"Actual\", fontdict={\"fontsize\": 14})\n",
    "plt.savefig('cm_scv.jpg', bbox_inches='tight')"
   ]
  },
  {
   "cell_type": "code",
   "execution_count": 97,
   "metadata": {
    "colab": {},
    "colab_type": "code",
    "id": "uKuqPtvru-rN"
   },
   "outputs": [],
   "source": [
    "#Generating sample status:\n",
    "sample_weight = np.random.RandomState(42).rand(y.shape[0])\n",
    "sw_train,sw_test = train_test_split(sample_weight,test_size=0.2)"
   ]
  },
  {
   "cell_type": "code",
   "execution_count": 103,
   "metadata": {
    "colab": {},
    "colab_type": "code",
    "id": "UlnfF4b_0fVL"
   },
   "outputs": [],
   "source": [
    "#Caluculating Probability of 1 for a test data:\n",
    "clf_isotonic = CalibratedClassifierCV(best_rf,cv=10,method='isotonic')\n",
    "clf_isotonic.fit(X_train,y_train,sw_train)\n",
    "prob_pos_isotonic = clf_isotonic.predict_proba(X_test)[:,-1]"
   ]
  },
  {
   "cell_type": "code",
   "execution_count": 104,
   "metadata": {
    "colab": {
     "base_uri": "https://localhost:8080/",
     "height": 1000
    },
    "colab_type": "code",
    "executionInfo": {
     "elapsed": 37653,
     "status": "ok",
     "timestamp": 1587137713059,
     "user": {
      "displayName": "Sathya Tech",
      "photoUrl": "",
      "userId": "09872077861490516655"
     },
     "user_tz": -330
    },
    "id": "xhAQRitn0oMf",
    "outputId": "bf8346db-2f80-4ee9-b167-3e4ffcc241d8"
   },
   "outputs": [
    {
     "name": "stdout",
     "output_type": "stream",
     "text": [
      "Predicted_Value:[0] Actual_Value:0 Probablity of Pay:[0.97547638]\n",
      "Predicted_Value:[0] Actual_Value:0 Probablity of Pay:[0.97547638]\n",
      "Predicted_Value:[0] Actual_Value:0 Probablity of Pay:[0.97547638]\n",
      "Predicted_Value:[0] Actual_Value:0 Probablity of Pay:[0.97547638]\n",
      "Predicted_Value:[0] Actual_Value:0 Probablity of Pay:[0.97547638]\n",
      "Predicted_Value:[0] Actual_Value:0 Probablity of Pay:[0.97547638]\n",
      "Predicted_Value:[0] Actual_Value:0 Probablity of Pay:[0.97547638]\n",
      "Predicted_Value:[0] Actual_Value:0 Probablity of Pay:[0.97547638]\n",
      "Predicted_Value:[0] Actual_Value:0 Probablity of Pay:[0.97547638]\n",
      "Predicted_Value:[0] Actual_Value:1 Probablity of Pay:[0.97547638]\n",
      "Predicted_Value:[0] Actual_Value:0 Probablity of Pay:[0.97547638]\n",
      "Predicted_Value:[0] Actual_Value:0 Probablity of Pay:[0.97547638]\n",
      "Predicted_Value:[0] Actual_Value:0 Probablity of Pay:[0.97547638]\n",
      "Predicted_Value:[0] Actual_Value:0 Probablity of Pay:[0.97547638]\n",
      "Predicted_Value:[0] Actual_Value:0 Probablity of Pay:[0.97547638]\n",
      "Predicted_Value:[0] Actual_Value:0 Probablity of Pay:[0.97547638]\n",
      "Predicted_Value:[0] Actual_Value:1 Probablity of Pay:[0.97547638]\n",
      "Predicted_Value:[0] Actual_Value:0 Probablity of Pay:[0.97547638]\n",
      "Predicted_Value:[0] Actual_Value:0 Probablity of Pay:[0.95615732]\n",
      "Predicted_Value:[0] Actual_Value:0 Probablity of Pay:[0.95615732]\n",
      "Predicted_Value:[0] Actual_Value:0 Probablity of Pay:[0.95615732]\n",
      "Predicted_Value:[0] Actual_Value:0 Probablity of Pay:[0.95615732]\n",
      "Predicted_Value:[0] Actual_Value:0 Probablity of Pay:[0.95615732]\n",
      "Predicted_Value:[0] Actual_Value:0 Probablity of Pay:[0.95615732]\n",
      "Predicted_Value:[0] Actual_Value:0 Probablity of Pay:[0.95615732]\n",
      "Predicted_Value:[0] Actual_Value:0 Probablity of Pay:[0.95615732]\n",
      "Predicted_Value:[0] Actual_Value:0 Probablity of Pay:[0.95615732]\n",
      "Predicted_Value:[0] Actual_Value:0 Probablity of Pay:[0.9401246]\n",
      "Predicted_Value:[0] Actual_Value:0 Probablity of Pay:[0.92942495]\n",
      "Predicted_Value:[0] Actual_Value:0 Probablity of Pay:[0.92942495]\n",
      "Predicted_Value:[0] Actual_Value:0 Probablity of Pay:[0.92622411]\n",
      "Predicted_Value:[0] Actual_Value:0 Probablity of Pay:[0.91750652]\n",
      "Predicted_Value:[0] Actual_Value:0 Probablity of Pay:[0.90851998]\n",
      "Predicted_Value:[0] Actual_Value:0 Probablity of Pay:[0.89190888]\n",
      "Predicted_Value:[0] Actual_Value:0 Probablity of Pay:[0.88178761]\n",
      "Predicted_Value:[0] Actual_Value:1 Probablity of Pay:[0.88178761]\n",
      "Predicted_Value:[0] Actual_Value:0 Probablity of Pay:[0.88178761]\n",
      "Predicted_Value:[0] Actual_Value:0 Probablity of Pay:[0.87837705]\n",
      "Predicted_Value:[0] Actual_Value:0 Probablity of Pay:[0.83885126]\n",
      "Predicted_Value:[0] Actual_Value:1 Probablity of Pay:[0.83330825]\n",
      "Predicted_Value:[0] Actual_Value:0 Probablity of Pay:[0.81581383]\n",
      "Predicted_Value:[0] Actual_Value:0 Probablity of Pay:[0.81349507]\n",
      "Predicted_Value:[0] Actual_Value:0 Probablity of Pay:[0.81023477]\n",
      "Predicted_Value:[0] Actual_Value:0 Probablity of Pay:[0.80683275]\n",
      "Predicted_Value:[0] Actual_Value:0 Probablity of Pay:[0.78565364]\n",
      "Predicted_Value:[0] Actual_Value:0 Probablity of Pay:[0.71234285]\n",
      "Predicted_Value:[0] Actual_Value:1 Probablity of Pay:[0.71203413]\n",
      "Predicted_Value:[0] Actual_Value:0 Probablity of Pay:[0.70967335]\n",
      "Predicted_Value:[0] Actual_Value:0 Probablity of Pay:[0.70425614]\n",
      "Predicted_Value:[0] Actual_Value:1 Probablity of Pay:[0.69011883]\n",
      "Predicted_Value:[0] Actual_Value:0 Probablity of Pay:[0.68859997]\n",
      "Predicted_Value:[0] Actual_Value:1 Probablity of Pay:[0.6866168]\n",
      "Predicted_Value:[0] Actual_Value:0 Probablity of Pay:[0.63108036]\n",
      "Predicted_Value:[0] Actual_Value:0 Probablity of Pay:[0.62491526]\n",
      "Predicted_Value:[0] Actual_Value:1 Probablity of Pay:[0.61800219]\n",
      "Predicted_Value:[0] Actual_Value:0 Probablity of Pay:[0.60546202]\n",
      "Predicted_Value:[0] Actual_Value:1 Probablity of Pay:[0.60353187]\n",
      "Predicted_Value:[0] Actual_Value:1 Probablity of Pay:[0.59975633]\n",
      "Predicted_Value:[0] Actual_Value:0 Probablity of Pay:[0.59731808]\n",
      "Predicted_Value:[0] Actual_Value:0 Probablity of Pay:[0.58690184]\n",
      "Predicted_Value:[0] Actual_Value:1 Probablity of Pay:[0.58256511]\n",
      "Predicted_Value:[0] Actual_Value:0 Probablity of Pay:[0.57678888]\n",
      "Predicted_Value:[0] Actual_Value:0 Probablity of Pay:[0.54719215]\n",
      "Predicted_Value:[0] Actual_Value:0 Probablity of Pay:[0.53993226]\n",
      "Predicted_Value:[0] Actual_Value:0 Probablity of Pay:[0.53601543]\n",
      "Predicted_Value:[0] Actual_Value:0 Probablity of Pay:[0.52659428]\n",
      "Predicted_Value:[0] Actual_Value:0 Probablity of Pay:[0.51814103]\n",
      "Predicted_Value:[0] Actual_Value:1 Probablity of Pay:[0.50261993]\n",
      "Predicted_Value:[1] Actual_Value:0 Probablity of Pay:[0.49931767]\n",
      "Predicted_Value:[1] Actual_Value:0 Probablity of Pay:[0.49620403]\n",
      "Predicted_Value:[1] Actual_Value:0 Probablity of Pay:[0.49519443]\n",
      "Predicted_Value:[0] Actual_Value:0 Probablity of Pay:[0.49447017]\n",
      "Predicted_Value:[0] Actual_Value:1 Probablity of Pay:[0.49360602]\n",
      "Predicted_Value:[0] Actual_Value:0 Probablity of Pay:[0.48271611]\n",
      "Predicted_Value:[0] Actual_Value:0 Probablity of Pay:[0.48177174]\n",
      "Predicted_Value:[1] Actual_Value:1 Probablity of Pay:[0.4771124]\n",
      "Predicted_Value:[0] Actual_Value:1 Probablity of Pay:[0.46231981]\n",
      "Predicted_Value:[1] Actual_Value:0 Probablity of Pay:[0.45717759]\n",
      "Predicted_Value:[0] Actual_Value:0 Probablity of Pay:[0.45284301]\n",
      "Predicted_Value:[0] Actual_Value:1 Probablity of Pay:[0.43457217]\n",
      "Predicted_Value:[0] Actual_Value:1 Probablity of Pay:[0.43351522]\n",
      "Predicted_Value:[1] Actual_Value:0 Probablity of Pay:[0.35497057]\n",
      "Predicted_Value:[1] Actual_Value:1 Probablity of Pay:[0.34130082]\n",
      "Predicted_Value:[0] Actual_Value:1 Probablity of Pay:[0.3117963]\n",
      "Predicted_Value:[1] Actual_Value:0 Probablity of Pay:[0.31051709]\n",
      "Predicted_Value:[1] Actual_Value:0 Probablity of Pay:[0.2775183]\n",
      "Predicted_Value:[1] Actual_Value:1 Probablity of Pay:[0.26776886]\n",
      "Predicted_Value:[1] Actual_Value:1 Probablity of Pay:[0.25698534]\n",
      "Predicted_Value:[1] Actual_Value:1 Probablity of Pay:[0.25369648]\n",
      "Predicted_Value:[1] Actual_Value:1 Probablity of Pay:[0.24996773]\n",
      "Predicted_Value:[1] Actual_Value:0 Probablity of Pay:[0.24743488]\n",
      "Predicted_Value:[1] Actual_Value:1 Probablity of Pay:[0.24273361]\n",
      "Predicted_Value:[1] Actual_Value:1 Probablity of Pay:[0.24273361]\n",
      "Predicted_Value:[1] Actual_Value:1 Probablity of Pay:[0.24172446]\n",
      "Predicted_Value:[1] Actual_Value:0 Probablity of Pay:[0.24000491]\n",
      "Predicted_Value:[1] Actual_Value:1 Probablity of Pay:[0.23419819]\n",
      "Predicted_Value:[1] Actual_Value:0 Probablity of Pay:[0.23181881]\n",
      "Predicted_Value:[1] Actual_Value:1 Probablity of Pay:[0.22991086]\n",
      "Predicted_Value:[1] Actual_Value:1 Probablity of Pay:[0.22901845]\n",
      "Predicted_Value:[1] Actual_Value:0 Probablity of Pay:[0.21226184]\n",
      "Predicted_Value:[1] Actual_Value:0 Probablity of Pay:[0.20526967]\n",
      "Predicted_Value:[1] Actual_Value:1 Probablity of Pay:[0.2035518]\n",
      "Predicted_Value:[1] Actual_Value:1 Probablity of Pay:[0.19733839]\n",
      "Predicted_Value:[1] Actual_Value:1 Probablity of Pay:[0.19733839]\n",
      "Predicted_Value:[1] Actual_Value:1 Probablity of Pay:[0.19733839]\n",
      "Predicted_Value:[1] Actual_Value:1 Probablity of Pay:[0.18917788]\n",
      "Predicted_Value:[1] Actual_Value:1 Probablity of Pay:[0.18179481]\n",
      "Predicted_Value:[1] Actual_Value:0 Probablity of Pay:[0.17574368]\n",
      "Predicted_Value:[1] Actual_Value:1 Probablity of Pay:[0.16472461]\n",
      "Predicted_Value:[1] Actual_Value:1 Probablity of Pay:[0.15766993]\n",
      "Predicted_Value:[1] Actual_Value:1 Probablity of Pay:[0.15456551]\n",
      "Predicted_Value:[1] Actual_Value:1 Probablity of Pay:[0.15065978]\n",
      "Predicted_Value:[1] Actual_Value:0 Probablity of Pay:[0.14988552]\n",
      "Predicted_Value:[1] Actual_Value:1 Probablity of Pay:[0.14683167]\n",
      "Predicted_Value:[1] Actual_Value:1 Probablity of Pay:[0.14339694]\n",
      "Predicted_Value:[1] Actual_Value:1 Probablity of Pay:[0.14309141]\n",
      "Predicted_Value:[1] Actual_Value:1 Probablity of Pay:[0.14255167]\n",
      "Predicted_Value:[1] Actual_Value:1 Probablity of Pay:[0.1322554]\n",
      "Predicted_Value:[1] Actual_Value:0 Probablity of Pay:[0.12858634]\n",
      "Predicted_Value:[1] Actual_Value:1 Probablity of Pay:[0.11615231]\n",
      "Predicted_Value:[1] Actual_Value:1 Probablity of Pay:[0.11536821]\n",
      "Predicted_Value:[1] Actual_Value:1 Probablity of Pay:[0.09929891]\n",
      "Predicted_Value:[1] Actual_Value:1 Probablity of Pay:[0.09594315]\n",
      "Predicted_Value:[1] Actual_Value:1 Probablity of Pay:[0.09326109]\n",
      "Predicted_Value:[1] Actual_Value:1 Probablity of Pay:[0.08521563]\n"
     ]
    },
    {
     "name": "stdout",
     "output_type": "stream",
     "text": [
      "Predicted_Value:[1] Actual_Value:1 Probablity of Pay:[0.08276139]\n",
      "Predicted_Value:[1] Actual_Value:1 Probablity of Pay:[0.08228163]\n",
      "Predicted_Value:[1] Actual_Value:1 Probablity of Pay:[0.07787792]\n",
      "Predicted_Value:[1] Actual_Value:0 Probablity of Pay:[0.07282262]\n",
      "Predicted_Value:[1] Actual_Value:1 Probablity of Pay:[0.07240768]\n",
      "Predicted_Value:[1] Actual_Value:0 Probablity of Pay:[0.07000438]\n",
      "Predicted_Value:[1] Actual_Value:0 Probablity of Pay:[0.06919079]\n",
      "Predicted_Value:[1] Actual_Value:1 Probablity of Pay:[0.04601511]\n",
      "Predicted_Value:[1] Actual_Value:1 Probablity of Pay:[0.03737959]\n",
      "Predicted_Value:[1] Actual_Value:1 Probablity of Pay:[0.0333412]\n",
      "Predicted_Value:[1] Actual_Value:1 Probablity of Pay:[0.0333412]\n",
      "Predicted_Value:[1] Actual_Value:1 Probablity of Pay:[0.03199302]\n",
      "Predicted_Value:[1] Actual_Value:1 Probablity of Pay:[0.03091324]\n",
      "Predicted_Value:[1] Actual_Value:1 Probablity of Pay:[0.03091324]\n",
      "Predicted_Value:[1] Actual_Value:1 Probablity of Pay:[0.03077904]\n",
      "Predicted_Value:[1] Actual_Value:1 Probablity of Pay:[0.03064484]\n",
      "Predicted_Value:[1] Actual_Value:1 Probablity of Pay:[0.03064484]\n",
      "Predicted_Value:[1] Actual_Value:1 Probablity of Pay:[0.03064484]\n",
      "Predicted_Value:[1] Actual_Value:1 Probablity of Pay:[0.03064484]\n",
      "Predicted_Value:[1] Actual_Value:1 Probablity of Pay:[0.03064484]\n",
      "Predicted_Value:[1] Actual_Value:1 Probablity of Pay:[0.]\n",
      "Predicted_Value:[1] Actual_Value:1 Probablity of Pay:[0.]\n",
      "Predicted_Value:[1] Actual_Value:1 Probablity of Pay:[0.]\n",
      "Predicted_Value:[1] Actual_Value:1 Probablity of Pay:[0.]\n",
      "Predicted_Value:[1] Actual_Value:1 Probablity of Pay:[0.]\n",
      "Predicted_Value:[1] Actual_Value:1 Probablity of Pay:[0.]\n",
      "Predicted_Value:[1] Actual_Value:1 Probablity of Pay:[0.]\n",
      "Predicted_Value:[1] Actual_Value:1 Probablity of Pay:[0.]\n",
      "Predicted_Value:[1] Actual_Value:1 Probablity of Pay:[0.]\n",
      "Predicted_Value:[1] Actual_Value:1 Probablity of Pay:[0.]\n",
      "Predicted_Value:[1] Actual_Value:1 Probablity of Pay:[0.]\n",
      "Predicted_Value:[1] Actual_Value:1 Probablity of Pay:[0.]\n",
      "Predicted_Value:[1] Actual_Value:1 Probablity of Pay:[0.]\n",
      "Predicted_Value:[1] Actual_Value:1 Probablity of Pay:[0.]\n",
      "Predicted_Value:[1] Actual_Value:1 Probablity of Pay:[0.]\n",
      "Predicted_Value:[1] Actual_Value:1 Probablity of Pay:[0.]\n",
      "Predicted_Value:[1] Actual_Value:1 Probablity of Pay:[0.]\n",
      "Predicted_Value:[1] Actual_Value:1 Probablity of Pay:[0.]\n",
      "Predicted_Value:[1] Actual_Value:1 Probablity of Pay:[0.]\n",
      "Predicted_Value:[1] Actual_Value:1 Probablity of Pay:[0.]\n",
      "Predicted_Value:[1] Actual_Value:1 Probablity of Pay:[0.]\n",
      "Predicted_Value:[1] Actual_Value:1 Probablity of Pay:[0.]\n",
      "Predicted_Value:[1] Actual_Value:1 Probablity of Pay:[0.]\n",
      "Predicted_Value:[1] Actual_Value:1 Probablity of Pay:[0.]\n"
     ]
    }
   ],
   "source": [
    "#Making results:\n",
    "for i in prob_pos_isotonic.argsort():\n",
    "    print(\"Predicted_Value:{} Actual_Value:{} Probablity of Pay:{}\".format(best_rf.predict(X_test[i].reshape(1,27)),y_test[i],(1-(clf_isotonic.predict_proba(X_test[i].reshape(1,27))[:,-1]))))"
   ]
  },
  {
   "cell_type": "code",
   "execution_count": 105,
   "metadata": {
    "colab": {
     "base_uri": "https://localhost:8080/",
     "height": 561
    },
    "colab_type": "code",
    "executionInfo": {
     "elapsed": 32567,
     "status": "ok",
     "timestamp": 1587137713064,
     "user": {
      "displayName": "Sathya Tech",
      "photoUrl": "",
      "userId": "09872077861490516655"
     },
     "user_tz": -330
    },
    "id": "__Dt_6WX2krd",
    "outputId": "ae042920-706f-4e22-cda8-dffb0340e75a"
   },
   "outputs": [
    {
     "data": {
      "image/png": "[encoded data removed]",
      "text/plain": [
       "<Figure size 864x432 with 1 Axes>"
      ]
     },
     "metadata": {},
     "output_type": "display_data"
    }
   ],
   "source": [
    "# Plot features importance\n",
    "importances = best_rf.feature_importances_\n",
    "indices = np.argsort(best_rf.feature_importances_)[::-1]\n",
    "plt.figure(figsize=(12, 6))\n",
    "plt.bar(range(1, 28), importances[indices], align=\"center\")\n",
    "plt.xticks(range(1, 28), df.columns[df.columns != \"Label\"][indices], rotation=90)\n",
    "plt.title(\"Feature Importance\", {\"fontsize\": 16})\n",
    "plt.savefig('fi_scv.jpg', bbox_inches='tight')"
   ]
  },
  {
   "cell_type": "code",
   "execution_count": 106,
   "metadata": {
    "colab": {},
    "colab_type": "code",
    "id": "qlPHtR4m3Zfl"
   },
   "outputs": [],
   "source": [
    "# Saving model to disk\n",
    "pickle.dump(clf_isotonic, open('model_ok_iso.pkl','wb'))"
   ]
  },
  {
   "cell_type": "code",
   "execution_count": 107,
   "metadata": {
    "colab": {},
    "colab_type": "code",
    "id": "i4RFnBv_ycxP"
   },
   "outputs": [
    {
     "data": {
      "text/plain": [
       "400"
      ]
     },
     "execution_count": 107,
     "metadata": {},
     "output_type": "execute_result"
    }
   ],
   "source": [
    "len(best_rf.estimators_)"
   ]
  },
  {
   "cell_type": "code",
   "execution_count": null,
   "metadata": {},
   "outputs": [],
   "source": []
  }
 ],
 "metadata": {
  "colab": {
   "authorship_tag": "ABX9TyNqiJlVNzoTHom2uyd0f4z3",
   "collapsed_sections": [],
   "name": "Missing_Values_Handling.ipynb",
   "provenance": []
  },
  "kernelspec": {
   "display_name": "Python 3",
   "language": "python",
   "name": "python3"
  },
  "language_info": {
   "codemirror_mode": {
    "name": "ipython",
    "version": 3
   },
   "file_extension": ".py",
   "mimetype": "text/x-python",
   "name": "python",
   "nbconvert_exporter": "python",
   "pygments_lexer": "ipython3",
   "version": "3.7.4"
  }
 },
 "nbformat": 4,
 "nbformat_minor": 1
}
